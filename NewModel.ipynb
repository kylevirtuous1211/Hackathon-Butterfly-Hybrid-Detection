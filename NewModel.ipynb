{
 "cells": [
  {
   "cell_type": "code",
   "execution_count": 1,
   "metadata": {},
   "outputs": [],
   "source": [
    "import pandas as pd\n",
    "import seaborn as sns\n",
    "\n",
    "sns.set_style(\"whitegrid\")"
   ]
  },
  {
   "cell_type": "markdown",
   "metadata": {},
   "source": [
    "## Load in the dataset CSV"
   ]
  },
  {
   "cell_type": "code",
   "execution_count": 2,
   "metadata": {},
   "outputs": [
    {
     "data": {
      "text/html": [
       "<div>\n",
       "<style scoped>\n",
       "    .dataframe tbody tr th:only-of-type {\n",
       "        vertical-align: middle;\n",
       "    }\n",
       "\n",
       "    .dataframe tbody tr th {\n",
       "        vertical-align: top;\n",
       "    }\n",
       "\n",
       "    .dataframe thead th {\n",
       "        text-align: right;\n",
       "    }\n",
       "</style>\n",
       "<table border=\"1\" class=\"dataframe\">\n",
       "  <thead>\n",
       "    <tr style=\"text-align: right;\">\n",
       "      <th></th>\n",
       "      <th>CAMID</th>\n",
       "      <th>file_url</th>\n",
       "      <th>hybrid_stat</th>\n",
       "      <th>split</th>\n",
       "      <th>zenodo_link</th>\n",
       "      <th>md5</th>\n",
       "      <th>subspecies</th>\n",
       "      <th>parent_subspecies_1</th>\n",
       "      <th>parent_subspecies_2</th>\n",
       "      <th>filename</th>\n",
       "      <th>classification</th>\n",
       "    </tr>\n",
       "  </thead>\n",
       "  <tbody>\n",
       "    <tr>\n",
       "      <th>0</th>\n",
       "      <td>CAM017821</td>\n",
       "      <td>https://zenodo.org/record/1748277/files/CAM017...</td>\n",
       "      <td>hybrid</td>\n",
       "      <td>train</td>\n",
       "      <td>https://zenodo.org/record/1748277</td>\n",
       "      <td>ba38c61337e2d720f5f72451387d4a48</td>\n",
       "      <td>NaN</td>\n",
       "      <td>8.0</td>\n",
       "      <td>9.0</td>\n",
       "      <td>CAM017821.jpg</td>\n",
       "      <td>8.0 and 9.0</td>\n",
       "    </tr>\n",
       "    <tr>\n",
       "      <th>1</th>\n",
       "      <td>CAM017820</td>\n",
       "      <td>https://zenodo.org/record/1748277/files/CAM017...</td>\n",
       "      <td>hybrid</td>\n",
       "      <td>train</td>\n",
       "      <td>https://zenodo.org/record/1748277</td>\n",
       "      <td>9a2ff257a0ad17055eae3cc6c279a62b</td>\n",
       "      <td>NaN</td>\n",
       "      <td>8.0</td>\n",
       "      <td>9.0</td>\n",
       "      <td>CAM017820.jpg</td>\n",
       "      <td>8.0 and 9.0</td>\n",
       "    </tr>\n",
       "    <tr>\n",
       "      <th>2</th>\n",
       "      <td>CAM017693</td>\n",
       "      <td>https://zenodo.org/record/1748277/files/CAM017...</td>\n",
       "      <td>hybrid</td>\n",
       "      <td>train</td>\n",
       "      <td>https://zenodo.org/record/1748277</td>\n",
       "      <td>c314eec15bb53750bdd68595d95a5e93</td>\n",
       "      <td>NaN</td>\n",
       "      <td>8.0</td>\n",
       "      <td>9.0</td>\n",
       "      <td>CAM017693.jpg</td>\n",
       "      <td>8.0 and 9.0</td>\n",
       "    </tr>\n",
       "    <tr>\n",
       "      <th>3</th>\n",
       "      <td>CAM018291</td>\n",
       "      <td>https://zenodo.org/record/2548678/files/CAM018...</td>\n",
       "      <td>non-hybrid</td>\n",
       "      <td>train</td>\n",
       "      <td>https://zenodo.org/record/2548678</td>\n",
       "      <td>e3a7bf83bdb9f11c035873a623a31345</td>\n",
       "      <td>8.0</td>\n",
       "      <td>NaN</td>\n",
       "      <td>NaN</td>\n",
       "      <td>CAM018291.jpg</td>\n",
       "      <td>8.0</td>\n",
       "    </tr>\n",
       "    <tr>\n",
       "      <th>4</th>\n",
       "      <td>CAM011430</td>\n",
       "      <td>https://zenodo.org/record/2550097/files/CAM011...</td>\n",
       "      <td>non-hybrid</td>\n",
       "      <td>train</td>\n",
       "      <td>https://zenodo.org/record/2550097</td>\n",
       "      <td>5060c653aea379c72802aa3ef8af32b0</td>\n",
       "      <td>9.0</td>\n",
       "      <td>NaN</td>\n",
       "      <td>NaN</td>\n",
       "      <td>CAM011430.jpg</td>\n",
       "      <td>9.0</td>\n",
       "    </tr>\n",
       "  </tbody>\n",
       "</table>\n",
       "</div>"
      ],
      "text/plain": [
       "       CAMID                                           file_url hybrid_stat  \\\n",
       "0  CAM017821  https://zenodo.org/record/1748277/files/CAM017...      hybrid   \n",
       "1  CAM017820  https://zenodo.org/record/1748277/files/CAM017...      hybrid   \n",
       "2  CAM017693  https://zenodo.org/record/1748277/files/CAM017...      hybrid   \n",
       "3  CAM018291  https://zenodo.org/record/2548678/files/CAM018...  non-hybrid   \n",
       "4  CAM011430  https://zenodo.org/record/2550097/files/CAM011...  non-hybrid   \n",
       "\n",
       "   split                        zenodo_link                               md5  \\\n",
       "0  train  https://zenodo.org/record/1748277  ba38c61337e2d720f5f72451387d4a48   \n",
       "1  train  https://zenodo.org/record/1748277  9a2ff257a0ad17055eae3cc6c279a62b   \n",
       "2  train  https://zenodo.org/record/1748277  c314eec15bb53750bdd68595d95a5e93   \n",
       "3  train  https://zenodo.org/record/2548678  e3a7bf83bdb9f11c035873a623a31345   \n",
       "4  train  https://zenodo.org/record/2550097  5060c653aea379c72802aa3ef8af32b0   \n",
       "\n",
       "   subspecies  parent_subspecies_1  parent_subspecies_2       filename  \\\n",
       "0         NaN                  8.0                  9.0  CAM017821.jpg   \n",
       "1         NaN                  8.0                  9.0  CAM017820.jpg   \n",
       "2         NaN                  8.0                  9.0  CAM017693.jpg   \n",
       "3         8.0                  NaN                  NaN  CAM018291.jpg   \n",
       "4         9.0                  NaN                  NaN  CAM011430.jpg   \n",
       "\n",
       "  classification  \n",
       "0    8.0 and 9.0  \n",
       "1    8.0 and 9.0  \n",
       "2    8.0 and 9.0  \n",
       "3            8.0  \n",
       "4            9.0  "
      ]
     },
     "execution_count": 2,
     "metadata": {},
     "output_type": "execute_result"
    }
   ],
   "source": [
    "df = pd.read_csv(\"../input_data/butterfly_anomaly_train.csv\")\n",
    "df.head()"
   ]
  },
  {
   "cell_type": "markdown",
   "metadata": {},
   "source": [
    "## Make one column with classification\n",
    "\n",
    "This is the subspecies (which may is a mix of two for some specimens, the hybrids); this is for coloring the distribution plot by hybrid status and showing all together."
   ]
  },
  {
   "cell_type": "code",
   "execution_count": 3,
   "metadata": {},
   "outputs": [],
   "source": [
    "# camid: class activation map id\n",
    "for camid in list(df.loc[df[\"subspecies\"].isna(), \"CAMID\"]):\n",
    "    temp = df.loc[df[\"CAMID\"] == camid]\n",
    "    subspecies = temp[\"parent_subspecies_1\"].astype(str) + \" and \" + temp[\"parent_subspecies_2\"].astype(str)\n",
    "    df.loc[df[\"CAMID\"] == camid, \"classification\"] = subspecies\n",
    "for camid in list(df.loc[df[\"subspecies\"].notna(), \"CAMID\"]):\n",
    "    temp = df.loc[df[\"CAMID\"] == camid]\n",
    "    subspecies = temp[\"subspecies\"].astype(str)\n",
    "    df.loc[df[\"CAMID\"] == camid, \"classification\"] = subspecies"
   ]
  },
  {
   "cell_type": "code",
   "execution_count": 4,
   "metadata": {},
   "outputs": [
    {
     "data": {
      "text/html": [
       "<div>\n",
       "<style scoped>\n",
       "    .dataframe tbody tr th:only-of-type {\n",
       "        vertical-align: middle;\n",
       "    }\n",
       "\n",
       "    .dataframe tbody tr th {\n",
       "        vertical-align: top;\n",
       "    }\n",
       "\n",
       "    .dataframe thead th {\n",
       "        text-align: right;\n",
       "    }\n",
       "</style>\n",
       "<table border=\"1\" class=\"dataframe\">\n",
       "  <thead>\n",
       "    <tr style=\"text-align: right;\">\n",
       "      <th></th>\n",
       "      <th>CAMID</th>\n",
       "      <th>file_url</th>\n",
       "      <th>hybrid_stat</th>\n",
       "      <th>split</th>\n",
       "      <th>zenodo_link</th>\n",
       "      <th>md5</th>\n",
       "      <th>subspecies</th>\n",
       "      <th>parent_subspecies_1</th>\n",
       "      <th>parent_subspecies_2</th>\n",
       "      <th>filename</th>\n",
       "      <th>classification</th>\n",
       "    </tr>\n",
       "  </thead>\n",
       "  <tbody>\n",
       "    <tr>\n",
       "      <th>0</th>\n",
       "      <td>CAM017821</td>\n",
       "      <td>https://zenodo.org/record/1748277/files/CAM017...</td>\n",
       "      <td>hybrid</td>\n",
       "      <td>train</td>\n",
       "      <td>https://zenodo.org/record/1748277</td>\n",
       "      <td>ba38c61337e2d720f5f72451387d4a48</td>\n",
       "      <td>NaN</td>\n",
       "      <td>8.0</td>\n",
       "      <td>9.0</td>\n",
       "      <td>CAM017821.jpg</td>\n",
       "      <td>8.0 and 9.0</td>\n",
       "    </tr>\n",
       "    <tr>\n",
       "      <th>1</th>\n",
       "      <td>CAM017820</td>\n",
       "      <td>https://zenodo.org/record/1748277/files/CAM017...</td>\n",
       "      <td>hybrid</td>\n",
       "      <td>train</td>\n",
       "      <td>https://zenodo.org/record/1748277</td>\n",
       "      <td>9a2ff257a0ad17055eae3cc6c279a62b</td>\n",
       "      <td>NaN</td>\n",
       "      <td>8.0</td>\n",
       "      <td>9.0</td>\n",
       "      <td>CAM017820.jpg</td>\n",
       "      <td>8.0 and 9.0</td>\n",
       "    </tr>\n",
       "    <tr>\n",
       "      <th>2</th>\n",
       "      <td>CAM017693</td>\n",
       "      <td>https://zenodo.org/record/1748277/files/CAM017...</td>\n",
       "      <td>hybrid</td>\n",
       "      <td>train</td>\n",
       "      <td>https://zenodo.org/record/1748277</td>\n",
       "      <td>c314eec15bb53750bdd68595d95a5e93</td>\n",
       "      <td>NaN</td>\n",
       "      <td>8.0</td>\n",
       "      <td>9.0</td>\n",
       "      <td>CAM017693.jpg</td>\n",
       "      <td>8.0 and 9.0</td>\n",
       "    </tr>\n",
       "    <tr>\n",
       "      <th>3</th>\n",
       "      <td>CAM018291</td>\n",
       "      <td>https://zenodo.org/record/2548678/files/CAM018...</td>\n",
       "      <td>non-hybrid</td>\n",
       "      <td>train</td>\n",
       "      <td>https://zenodo.org/record/2548678</td>\n",
       "      <td>e3a7bf83bdb9f11c035873a623a31345</td>\n",
       "      <td>8.0</td>\n",
       "      <td>NaN</td>\n",
       "      <td>NaN</td>\n",
       "      <td>CAM018291.jpg</td>\n",
       "      <td>8.0</td>\n",
       "    </tr>\n",
       "    <tr>\n",
       "      <th>4</th>\n",
       "      <td>CAM011430</td>\n",
       "      <td>https://zenodo.org/record/2550097/files/CAM011...</td>\n",
       "      <td>non-hybrid</td>\n",
       "      <td>train</td>\n",
       "      <td>https://zenodo.org/record/2550097</td>\n",
       "      <td>5060c653aea379c72802aa3ef8af32b0</td>\n",
       "      <td>9.0</td>\n",
       "      <td>NaN</td>\n",
       "      <td>NaN</td>\n",
       "      <td>CAM011430.jpg</td>\n",
       "      <td>9.0</td>\n",
       "    </tr>\n",
       "  </tbody>\n",
       "</table>\n",
       "</div>"
      ],
      "text/plain": [
       "       CAMID                                           file_url hybrid_stat  \\\n",
       "0  CAM017821  https://zenodo.org/record/1748277/files/CAM017...      hybrid   \n",
       "1  CAM017820  https://zenodo.org/record/1748277/files/CAM017...      hybrid   \n",
       "2  CAM017693  https://zenodo.org/record/1748277/files/CAM017...      hybrid   \n",
       "3  CAM018291  https://zenodo.org/record/2548678/files/CAM018...  non-hybrid   \n",
       "4  CAM011430  https://zenodo.org/record/2550097/files/CAM011...  non-hybrid   \n",
       "\n",
       "   split                        zenodo_link                               md5  \\\n",
       "0  train  https://zenodo.org/record/1748277  ba38c61337e2d720f5f72451387d4a48   \n",
       "1  train  https://zenodo.org/record/1748277  9a2ff257a0ad17055eae3cc6c279a62b   \n",
       "2  train  https://zenodo.org/record/1748277  c314eec15bb53750bdd68595d95a5e93   \n",
       "3  train  https://zenodo.org/record/2548678  e3a7bf83bdb9f11c035873a623a31345   \n",
       "4  train  https://zenodo.org/record/2550097  5060c653aea379c72802aa3ef8af32b0   \n",
       "\n",
       "   subspecies  parent_subspecies_1  parent_subspecies_2       filename  \\\n",
       "0         NaN                  8.0                  9.0  CAM017821.jpg   \n",
       "1         NaN                  8.0                  9.0  CAM017820.jpg   \n",
       "2         NaN                  8.0                  9.0  CAM017693.jpg   \n",
       "3         8.0                  NaN                  NaN  CAM018291.jpg   \n",
       "4         9.0                  NaN                  NaN  CAM011430.jpg   \n",
       "\n",
       "  classification  \n",
       "0    8.0 and 9.0  \n",
       "1    8.0 and 9.0  \n",
       "2    8.0 and 9.0  \n",
       "3            8.0  \n",
       "4            9.0  "
      ]
     },
     "execution_count": 4,
     "metadata": {},
     "output_type": "execute_result"
    }
   ],
   "source": [
    "# write the dataframe back to the file\n",
    "df.to_csv(\"../input_data/butterfly_anomaly_train.csv\", index=False)\n",
    "df.head()\n"
   ]
  },
  {
   "cell_type": "markdown",
   "metadata": {},
   "source": [
    "## Get distribution of images by subspecies (colored by hybrid status)"
   ]
  },
  {
   "cell_type": "code",
   "execution_count": 5,
   "metadata": {},
   "outputs": [
    {
     "name": "stdout",
     "output_type": "stream",
     "text": [
      "Count: 856\n",
      "Count: 201\n",
      "Count: 77\n",
      "Count: 98\n",
      "Count: 48\n",
      "Count: 23\n",
      "Count: 8\n",
      "Count: 83\n",
      "Count: 2\n",
      "Count: 21\n",
      "Count: 16\n",
      "Count: 489\n",
      "Count: 2\n",
      "Count: 67\n",
      "Count: 91\n"
     ]
    },
    {
     "data": {
      "image/png": "[encoded data removed]",
      "text/plain": [
       "<Figure size 640x480 with 1 Axes>"
      ]
     },
     "metadata": {},
     "output_type": "display_data"
    }
   ],
   "source": [
    "import matplotlib.pyplot as plt\n",
    "hist = sns.histplot(df, y = \"classification\", hue = \"hybrid_stat\", fill = True)\n",
    "\n",
    "plt.title(\"Hybrid Status Distribution\")\n",
    "for patch in hist.patches:\n",
    "    if (patch.get_width() > 0):\n",
    "        print(f\"Count: {patch.get_width()}\")"
   ]
  },
  {
   "cell_type": "markdown",
   "metadata": {},
   "source": [
    "## Loaded data and split into train and test "
   ]
  },
  {
   "cell_type": "code",
   "execution_count": 6,
   "metadata": {},
   "outputs": [],
   "source": [
    "from sklearn.model_selection import train_test_split"
   ]
  },
  {
   "cell_type": "code",
   "execution_count": 7,
   "metadata": {},
   "outputs": [
    {
     "name": "stdout",
     "output_type": "stream",
     "text": [
      "2082\n",
      "<class 'pandas.core.frame.DataFrame'>\n",
      "Index: 1665 entries, 604 to 230\n",
      "Data columns (total 11 columns):\n",
      " #   Column               Non-Null Count  Dtype  \n",
      "---  ------               --------------  -----  \n",
      " 0   CAMID                1665 non-null   object \n",
      " 1   file_url             1665 non-null   object \n",
      " 2   hybrid_stat          1665 non-null   object \n",
      " 3   split                1665 non-null   object \n",
      " 4   zenodo_link          1665 non-null   object \n",
      " 5   md5                  1665 non-null   object \n",
      " 6   subspecies           1592 non-null   float64\n",
      " 7   parent_subspecies_1  73 non-null     float64\n",
      " 8   parent_subspecies_2  73 non-null     float64\n",
      " 9   filename             1665 non-null   object \n",
      " 10  classification       1665 non-null   object \n",
      "dtypes: float64(3), object(8)\n",
      "memory usage: 156.1+ KB\n",
      "None\n",
      "<class 'pandas.core.frame.DataFrame'>\n",
      "Index: 417 entries, 231 to 1917\n",
      "Data columns (total 11 columns):\n",
      " #   Column               Non-Null Count  Dtype  \n",
      "---  ------               --------------  -----  \n",
      " 0   CAMID                417 non-null    object \n",
      " 1   file_url             417 non-null    object \n",
      " 2   hybrid_stat          417 non-null    object \n",
      " 3   split                417 non-null    object \n",
      " 4   zenodo_link          417 non-null    object \n",
      " 5   md5                  417 non-null    object \n",
      " 6   subspecies           399 non-null    float64\n",
      " 7   parent_subspecies_1  18 non-null     float64\n",
      " 8   parent_subspecies_2  18 non-null     float64\n",
      " 9   filename             417 non-null    object \n",
      " 10  classification       417 non-null    object \n",
      "dtypes: float64(3), object(8)\n",
      "memory usage: 39.1+ KB\n",
      "None\n",
      "          CAMID                                           file_url  \\\n",
      "604   CAM040215  https://zenodo.org/record/2707828/files/CAM040...   \n",
      "1060  CAM016784  https://zenodo.org/record/3082688/files/CAM016...   \n",
      "1594    19N0236  https://zenodo.org/record/4288311/files/19N023...   \n",
      "1873  CAM041515  https://zenodo.org/record/4291095/files/CAM041...   \n",
      "1629    19N0258  https://zenodo.org/record/4288311/files/19N025...   \n",
      "\n",
      "     hybrid_stat  split                        zenodo_link  \\\n",
      "604   non-hybrid  train  https://zenodo.org/record/2707828   \n",
      "1060      hybrid  train  https://zenodo.org/record/3082688   \n",
      "1594  non-hybrid  train  https://zenodo.org/record/4288311   \n",
      "1873  non-hybrid  train  https://zenodo.org/record/4291095   \n",
      "1629  non-hybrid  train  https://zenodo.org/record/4288311   \n",
      "\n",
      "                                   md5  subspecies  parent_subspecies_1  \\\n",
      "604   6c67f60763c0be6de603b47c3b028836         8.0                  NaN   \n",
      "1060  c31db71f0119ba6701e488965d4cfd8b         NaN                  8.0   \n",
      "1594  71152859e307b7d83b8e53bbf9a12012         8.0                  NaN   \n",
      "1873  cc8a1b2c2a612e8441dd9f769c25a7c2         8.0                  NaN   \n",
      "1629  0665ba45b6d591c3cf84e670b91ec09f         8.0                  NaN   \n",
      "\n",
      "      parent_subspecies_2       filename classification  \n",
      "604                   NaN  CAM040215.jpg            8.0  \n",
      "1060                  9.0  CAM016784.jpg    8.0 and 9.0  \n",
      "1594                  NaN    19N0236.jpg            8.0  \n",
      "1873                  NaN  CAM041515.jpg            8.0  \n",
      "1629                  NaN    19N0258.jpg            8.0  \n"
     ]
    }
   ],
   "source": [
    "# Get stratified 15% of the training images for sample run (should take about 12 minutes to download),\n",
    "# update \"test_size\" to select more or less sample images.\n",
    "X_train, X_test = train_test_split(df, test_size = 0.2, stratify = df[\"classification\"], random_state = 1)\n",
    "\n",
    "print(df.__len__())\n",
    "print(X_train.info())\n",
    "print(X_test.info())    \n",
    "print(X_train.head())"
   ]
  },
  {
   "cell_type": "markdown",
   "metadata": {},
   "source": [
    "## Import training requirements"
   ]
  },
  {
   "cell_type": "code",
   "execution_count": 8,
   "metadata": {},
   "outputs": [],
   "source": [
    "import torch\n",
    "import sys\n",
    "import os\n",
    "import csv\n",
    "from pathlib import Path\n",
    "# Add your path of library\n",
    "sys.path.append('My_model')\n",
    "import training"
   ]
  },
  {
   "cell_type": "markdown",
   "metadata": {},
   "source": []
  },
  {
   "cell_type": "markdown",
   "metadata": {},
   "source": [
    "## Load Training Data"
   ]
  },
  {
   "cell_type": "code",
   "execution_count": 9,
   "metadata": {},
   "outputs": [
    {
     "name": "stderr",
     "output_type": "stream",
     "text": [
      "Filtering bad urls: 2082it [00:01, 1526.12it/s]"
     ]
    },
    {
     "name": "stdout",
     "output_type": "stream",
     "text": [
      "Bad rows: 0\n",
      "          CAMID                                           file_url  \\\n",
      "2042  CAM036388  https://zenodo.org/record/5561246/files/CAM036...   \n",
      "1170  CAM016980  https://zenodo.org/record/3082688/files/CAM016...   \n",
      "1689    19N2248  https://zenodo.org/record/4288311/files/19N224...   \n",
      "1103  CAM016070  https://zenodo.org/record/3082688/files/CAM016...   \n",
      "483   CAM040581  https://zenodo.org/record/2707828/files/CAM040...   \n",
      "\n",
      "     hybrid_stat  split                        zenodo_link  \\\n",
      "2042  non-hybrid  train  https://zenodo.org/record/5561246   \n",
      "1170      hybrid  train  https://zenodo.org/record/3082688   \n",
      "1689  non-hybrid  train  https://zenodo.org/record/4288311   \n",
      "1103  non-hybrid  train  https://zenodo.org/record/3082688   \n",
      "483   non-hybrid  train  https://zenodo.org/record/2707828   \n",
      "\n",
      "                                   md5  subspecies  parent_subspecies_1  \\\n",
      "2042  9f54a19e475d73769a774a9af6a563e7        11.0                  NaN   \n",
      "1170  c771afa86286771cdd7f0273c870da36         NaN                  8.0   \n",
      "1689  5f5f8d136c533200402f99ea4576be14         8.0                  NaN   \n",
      "1103  87a312a88bdcd9cc1eb82fbf2e88a36d         9.0                  NaN   \n",
      "483   0136753cc328d23c19293b496aed89ec         2.0                  NaN   \n",
      "\n",
      "      parent_subspecies_2       filename classification  \n",
      "2042                  NaN  CAM036388.jpg           11.0  \n",
      "1170                  9.0  CAM016980.jpg    8.0 and 9.0  \n",
      "1689                  NaN    19N2248.jpg            8.0  \n",
      "1103                  NaN  CAM016070.jpg            9.0  \n",
      "483                   NaN  CAM040581.jpg            2.0  \n"
     ]
    },
    {
     "name": "stderr",
     "output_type": "stream",
     "text": [
      "\n"
     ]
    }
   ],
   "source": [
    "# training.DATA_FILE = Path('./sample_annotation.csv')\n",
    "training.DATA_FILE = Path('../input_data/butterfly_anomaly_train.csv')\n",
    "# training.IMG_DIR = Path('./sample_images')\n",
    "training.IMG_DIR = Path('../input_data/both')\n",
    "train_data, test_data = training.load_data(training.DATA_FILE, training.IMG_DIR)\n",
    "print(train_data.head())"
   ]
  },
  {
   "cell_type": "markdown",
   "metadata": {},
   "source": [
    "## Model setup\n"
   ]
  },
  {
   "cell_type": "code",
   "execution_count": 10,
   "metadata": {},
   "outputs": [
    {
     "data": {
      "application/vnd.jupyter.widget-view+json": {
       "model_id": "dd8f6247661e4b4499647d5ecfbf733a",
       "version_major": 2,
       "version_minor": 0
      },
      "text/plain": [
       "model.safetensors:   0%|          | 0.00/102M [00:00<?, ?B/s]"
      ]
     },
     "metadata": {},
     "output_type": "display_data"
    },
    {
     "name": "stderr",
     "output_type": "stream",
     "text": [
      "c:\\Users\\Admin-62501\\anaconda3\\envs\\butterfly-detection\\lib\\site-packages\\huggingface_hub\\file_download.py:140: UserWarning: `huggingface_hub` cache-system uses symlinks by default to efficiently store duplicated files but your machine does not support them in C:\\Users\\Admin-62501\\.cache\\huggingface\\hub\\models--timm--resnet50.a1_in1k. Caching files will still work but in a degraded version that might require more space on your disk. This warning can be disabled by setting the `HF_HUB_DISABLE_SYMLINKS_WARNING` environment variable. For more details, see https://huggingface.co/docs/huggingface_hub/how-to-cache#limitations.\n",
      "To support symlinks on Windows, you either need to activate Developer Mode or to run Python as an administrator. In order to activate developer mode, see this article: https://docs.microsoft.com/en-us/windows/apps/get-started/enable-your-device-for-development\n",
      "  warnings.warn(message)\n",
      "Some weights of the model checkpoint at facebook/detr-resnet-50 were not used when initializing DetrForObjectDetection: ['model.backbone.conv_encoder.model.layer1.0.downsample.1.num_batches_tracked', 'model.backbone.conv_encoder.model.layer2.0.downsample.1.num_batches_tracked', 'model.backbone.conv_encoder.model.layer3.0.downsample.1.num_batches_tracked', 'model.backbone.conv_encoder.model.layer4.0.downsample.1.num_batches_tracked']\n",
      "- This IS expected if you are initializing DetrForObjectDetection from the checkpoint of a model trained on another task or with another architecture (e.g. initializing a BertForSequenceClassification model from a BertForPreTraining model).\n",
      "- This IS NOT expected if you are initializing DetrForObjectDetection from the checkpoint of a model that you expect to be exactly identical (initializing a BertForSequenceClassification model from a BertForSequenceClassification model).\n"
     ]
    },
    {
     "name": "stdout",
     "output_type": "stream",
     "text": [
      "cpu\n"
     ]
    }
   ],
   "source": [
    "training.DEVICE='cuda' if torch.cuda.is_available() else 'cpu'\n",
    "model = training.get_detrResnet_model(name='facebook/detr-resnet-50').to(training.DEVICE)\n",
    "training.BATCH_SIZE = 4\n",
    "\n",
    "# Location to save checkpoints and results\n",
    "training.CLF_SAVE_DIR = Path('./trained_clfs')\n",
    "os.makedirs(training.CLF_SAVE_DIR, exist_ok=True)\n",
    "print(training.DEVICE)\n",
    "# print(model)"
   ]
  },
  {
   "cell_type": "markdown",
   "metadata": {},
   "source": [
    "## Start training"
   ]
  },
  {
   "cell_type": "code",
   "execution_count": 11,
   "metadata": {},
   "outputs": [
    {
     "name": "stdout",
     "output_type": "stream",
     "text": [
      "Created base dataset with 1665 samples\n",
      "Created base dataset with 417 samples\n",
      "<torch.utils.data.dataloader.DataLoader object at 0x0000018671513AC0>\n",
      "<torch.utils.data.dataloader.DataLoader object at 0x000001860002B220>\n"
     ]
    }
   ],
   "source": [
    "# Create dataloader\n",
    "train_loader, test_loader = training.prepare_data_loaders(train_data, test_data)\n",
    "print(train_loader)\n",
    "print(test_loader)"
   ]
  },
  {
   "cell_type": "code",
   "execution_count": 12,
   "metadata": {},
   "outputs": [
    {
     "name": "stderr",
     "output_type": "stream",
     "text": [
      "Extracting features: 100%|██████████| 417/417 [10:41<00:00,  1.54s/it]\n",
      "Extracting features: 100%|██████████| 105/105 [02:38<00:00,  1.51s/it]"
     ]
    },
    {
     "name": "stdout",
     "output_type": "stream",
     "text": [
      "[[-15.542916    -0.91045094  -7.36014    ...  -8.97842     -5.407525\n",
      "    7.603818  ]\n",
      " [-14.988806    -0.91125643  -5.5944624  ...  -3.4682074   -0.01910743\n",
      "    6.888975  ]\n",
      " [-15.784734     3.8314717   -6.208378   ... -10.686158    -5.603228\n",
      "    6.7690516 ]\n",
      " ...\n",
      " [-15.173181     1.2875555   -3.8539486  ...  -5.5410814   -0.65423435\n",
      "    7.466252  ]\n",
      " [-15.109357    -1.8908516   -3.902047   ...  -7.9937053   -1.7277328\n",
      "    7.293795  ]\n",
      " [-15.825258     0.51061547  -2.476412   ...  -7.306231    -1.2499074\n",
      "    7.69989   ]]\n"
     ]
    },
    {
     "name": "stderr",
     "output_type": "stream",
     "text": [
      "\n"
     ]
    }
   ],
   "source": [
    "# Extract visual features from model\n",
    "try: \n",
    "    tr_features, tr_labels, test_features, test_labels = training.extract_features(train_loader, test_loader, model)\n",
    "    print(tr_features)\n",
    "except Exception as e:\n",
    "    print(\"Error in extracting features\")\n",
    "    print(e)"
   ]
  },
  {
   "cell_type": "code",
   "execution_count": 13,
   "metadata": {},
   "outputs": [
    {
     "name": "stdout",
     "output_type": "stream",
     "text": [
      "[[-15.542916    -0.91045094  -7.36014    ...  -8.97842     -5.407525\n",
      "    7.603818  ]\n",
      " [-14.988806    -0.91125643  -5.5944624  ...  -3.4682074   -0.01910743\n",
      "    6.888975  ]\n",
      " [-15.784734     3.8314717   -6.208378   ... -10.686158    -5.603228\n",
      "    6.7690516 ]\n",
      " ...\n",
      " [-15.173181     1.2875555   -3.8539486  ...  -5.5410814   -0.65423435\n",
      "    7.466252  ]\n",
      " [-15.109357    -1.8908516   -3.902047   ...  -7.9937053   -1.7277328\n",
      "    7.293795  ]\n",
      " [-15.825258     0.51061547  -2.476412   ...  -7.306231    -1.2499074\n",
      "    7.69989   ]]\n"
     ]
    }
   ],
   "source": [
    "print(tr_features)"
   ]
  },
  {
   "cell_type": "code",
   "execution_count": 14,
   "metadata": {},
   "outputs": [
    {
     "name": "stdout",
     "output_type": "stream",
     "text": [
      "Training and evaluating svm...\n",
      "Saved svm classifier to trained_clfs\\trained_svm_classifier.pkl\n",
      "svm: Acc - 0.9459, Hacc - 0.7778, NHacc - 0.9556\n",
      "\n",
      "          Hybrid-Recall: 0.6428571428571429\n",
      "          Hybrid-Precision: 0.3103448275862069\n",
      "          f1-Score: 0.4186046511627907\n",
      "          ROC AUC: 0.7966146756469337\n",
      "          Accuracy: 0.9400479616306955\n",
      "          \n",
      "Training and evaluating sgd...\n"
     ]
    },
    {
     "name": "stderr",
     "output_type": "stream",
     "text": [
      "c:\\Users\\Admin-62501\\anaconda3\\envs\\butterfly-detection\\lib\\site-packages\\sklearn\\linear_model\\_stochastic_gradient.py:723: ConvergenceWarning: Maximum number of iteration reached before convergence. Consider increasing max_iter to improve the fit.\n",
      "  warnings.warn(\n",
      "c:\\Users\\Admin-62501\\anaconda3\\envs\\butterfly-detection\\lib\\site-packages\\sklearn\\linear_model\\_stochastic_gradient.py:723: ConvergenceWarning: Maximum number of iteration reached before convergence. Consider increasing max_iter to improve the fit.\n",
      "  warnings.warn(\n",
      "c:\\Users\\Admin-62501\\anaconda3\\envs\\butterfly-detection\\lib\\site-packages\\sklearn\\linear_model\\_stochastic_gradient.py:723: ConvergenceWarning: Maximum number of iteration reached before convergence. Consider increasing max_iter to improve the fit.\n",
      "  warnings.warn(\n",
      "c:\\Users\\Admin-62501\\anaconda3\\envs\\butterfly-detection\\lib\\site-packages\\sklearn\\linear_model\\_stochastic_gradient.py:723: ConvergenceWarning: Maximum number of iteration reached before convergence. Consider increasing max_iter to improve the fit.\n",
      "  warnings.warn(\n"
     ]
    },
    {
     "name": "stdout",
     "output_type": "stream",
     "text": [
      "Saved sgd classifier to trained_clfs\\trained_sgd_classifier.pkl\n",
      "sgd: Acc - 0.9520, Hacc - 0.2222, NHacc - 0.9937\n",
      "\n",
      "          Hybrid-Recall: 0.6428571428571429\n",
      "          Hybrid-Precision: 0.3103448275862069\n",
      "          f1-Score: 0.4186046511627907\n",
      "          ROC AUC: 0.7966146756469337\n",
      "          Accuracy: 0.9400479616306955\n",
      "          \n",
      "Training and evaluating knn...\n",
      "Saved knn classifier to trained_clfs\\trained_knn_classifier.pkl\n",
      "knn: Acc - 0.9580, Hacc - 0.2222, NHacc - 1.0000\n",
      "\n",
      "          Hybrid-Recall: 0.7857142857142857\n",
      "          Hybrid-Precision: 0.3548387096774194\n",
      "          f1-Score: 0.4888888888888889\n",
      "          ROC AUC: 0.8680432470755051\n",
      "          Accuracy: 0.9448441247002398\n",
      "          \n"
     ]
    }
   ],
   "source": [
    "# Train classifier with visual features\n",
    "csv_output, score_output = training.train_and_evaluate(tr_features, tr_labels, test_features, test_labels)"
   ]
  },
  {
   "cell_type": "code",
   "execution_count": 15,
   "metadata": {},
   "outputs": [],
   "source": [
    "# Save evaluation results\n",
    "csv_filename = training.CLF_SAVE_DIR / \"classifier_evaluation_results.csv\"\n",
    "with open(csv_filename, mode='w', newline='') as file:\n",
    "    writer = csv.writer(file)\n",
    "    writer.writerow([\"Configuration\", \"AUC\", \"Precision\", \"Recall\", \"F1-score\"])\n",
    "    writer.writerows(csv_output)\n",
    "\n",
    "# Save individual scores\n",
    "scores_filename = training.CLF_SAVE_DIR / \"classifier_scores.csv\"\n",
    "with open(scores_filename, mode='w', newline='') as score_file:\n",
    "    score_writer = csv.writer(score_file)\n",
    "    score_writer.writerow([\"Index\", \"Score\", \"True Label\"])\n",
    "    score_writer.writerows(score_output)"
   ]
  },
  {
   "cell_type": "code",
   "execution_count": null,
   "metadata": {},
   "outputs": [],
   "source": []
  }
 ],
 "metadata": {
  "kernelspec": {
   "display_name": "butterfly-detection",
   "language": "python",
   "name": "python3"
  },
  "language_info": {
   "codemirror_mode": {
    "name": "ipython",
    "version": 3
   },
   "file_extension": ".py",
   "mimetype": "text/x-python",
   "name": "python",
   "nbconvert_exporter": "python",
   "pygments_lexer": "ipython3",
   "version": "3.10.16"
  }
 },
 "nbformat": 4,
 "nbformat_minor": 4
}
