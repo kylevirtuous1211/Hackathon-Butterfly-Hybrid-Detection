{
 "cells": [
  {
   "cell_type": "markdown",
   "metadata": {},
   "source": [
    "## Load in the dataset CSV"
   ]
  },
  {
   "cell_type": "markdown",
   "metadata": {},
   "source": [
    "## Make one column with classification\n",
    "\n",
    "This is the subspecies (which may is a mix of two for some specimens, the hybrids); this is for coloring the distribution plot by hybrid status and showing all together."
   ]
  },
  {
   "cell_type": "markdown",
   "metadata": {},
   "source": [
    "## Get distribution of images by subspecies (colored by hybrid status)"
   ]
  },
  {
   "cell_type": "markdown",
   "metadata": {},
   "source": [
    "## Start here"
   ]
  },
  {
   "cell_type": "markdown",
   "metadata": {},
   "source": [
    "## Import training requirements"
   ]
  },
  {
   "cell_type": "code",
   "execution_count": 1,
   "metadata": {},
   "outputs": [],
   "source": [
    "import torch\n",
    "import sys\n",
    "import os\n",
    "import csv\n",
    "from pathlib import Path\n",
    "# Add your path of library\n",
    "sys.path.append('../DINO_train')\n",
    "import training"
   ]
  },
  {
   "cell_type": "markdown",
   "metadata": {},
   "source": []
  },
  {
   "cell_type": "markdown",
   "metadata": {},
   "source": [
    "## Load Training Data"
   ]
  },
  {
   "cell_type": "code",
   "execution_count": 2,
   "metadata": {},
   "outputs": [
    {
     "name": "stderr",
     "output_type": "stream",
     "text": [
      "Filtering bad urls: 0it [00:00, ?it/s]"
     ]
    },
    {
     "name": "stderr",
     "output_type": "stream",
     "text": [
      "Filtering bad urls: 4090it [00:02, 1398.78it/s]"
     ]
    },
    {
     "name": "stdout",
     "output_type": "stream",
     "text": [
      "Bad rows: 0\n",
      "(3272, 11)\n"
     ]
    },
    {
     "name": "stderr",
     "output_type": "stream",
     "text": [
      "\n"
     ]
    }
   ],
   "source": [
    "# TODO: Change to the correct path for your .csv file (butterfly_anomaly_train.csv)\n",
    "training.DATA_FILE = Path('../input_data/butterfly_anomaly_train.csv')\n",
    "# training.IMG_DIR = Path('./sample_images')\n",
    "# TODO: Change to the correct path for your images\n",
    "training.IMG_DIR = Path('../input_data/both')\n",
    "train_data, test_data = training.load_data(training.DATA_FILE, training.IMG_DIR)\n",
    "print(train_data.shape)"
   ]
  },
  {
   "cell_type": "markdown",
   "metadata": {},
   "source": [
    "## Model setup\n"
   ]
  },
  {
   "cell_type": "code",
   "execution_count": 3,
   "metadata": {},
   "outputs": [
    {
     "name": "stdout",
     "output_type": "stream",
     "text": [
      "cpu\n",
      "<class 'transformers.models.dinov2.modeling_dinov2.Dinov2Model'>\n"
     ]
    }
   ],
   "source": [
    "training.DEVICE='cuda' if torch.cuda.is_available() else 'cpu'\n",
    "model = training.get_dino_model(dino_name='facebook/dinov2-base').to(training.DEVICE)\n",
    "training.BATCH_SIZE = 4\n",
    "\n",
    "# Location to save checkpoints and results\n",
    "training.CLF_SAVE_DIR = Path('./trained_clfs')\n",
    "os.makedirs(training.CLF_SAVE_DIR, exist_ok=True)\n",
    "print(training.DEVICE)\n",
    "# print(model)\n",
    "print(type(model))\n"
   ]
  },
  {
   "cell_type": "markdown",
   "metadata": {},
   "source": [
    "## Start training"
   ]
  },
  {
   "cell_type": "code",
   "execution_count": 4,
   "metadata": {},
   "outputs": [
    {
     "name": "stdout",
     "output_type": "stream",
     "text": [
      "Created base dataset with 3272 samples\n",
      "Created base dataset with 818 samples\n",
      "Compose(\n",
      "    Resize(size=(224, 224), interpolation=bilinear, max_size=None, antialias=True)\n",
      "    Lambda()\n",
      "    ToTensor()\n",
      "    Normalize(mean=[0.485, 0.456, 0.406], std=[0.229, 0.224, 0.225])\n",
      ")\n"
     ]
    }
   ],
   "source": [
    "# Create dataloader\n",
    "tr_sig_dloader, test_dl = training.prepare_data_loaders(train_data, test_data)\n",
    "print(training.data_transforms())"
   ]
  },
  {
   "cell_type": "code",
   "execution_count": 5,
   "metadata": {},
   "outputs": [
    {
     "name": "stderr",
     "output_type": "stream",
     "text": [
      "Extracting features:  34%|███▍      | 278/818 [28:53<37:07,  4.13s/it]  "
     ]
    }
   ],
   "source": [
    "# Extract visual features from model \n",
    "try: \n",
    "    tr_features, tr_labels, test_features, test_labels = training.extract_features(tr_sig_dloader, test_dl, model)\n",
    "    print(tr_features)\n",
    "except Exception as e:\n",
    "    print(\"Error in extracting features\")\n",
    "    print(e)"
   ]
  },
  {
   "cell_type": "code",
   "execution_count": 6,
   "metadata": {},
   "outputs": [
    {
     "ename": "NameError",
     "evalue": "name 'tr_features' is not defined",
     "output_type": "error",
     "traceback": [
      "\u001b[1;31m---------------------------------------------------------------------------\u001b[0m",
      "\u001b[1;31mNameError\u001b[0m                                 Traceback (most recent call last)",
      "Cell \u001b[1;32mIn[6], line 1\u001b[0m\n\u001b[1;32m----> 1\u001b[0m \u001b[38;5;28mprint\u001b[39m(\u001b[43mtr_features\u001b[49m)\n",
      "\u001b[1;31mNameError\u001b[0m: name 'tr_features' is not defined"
     ]
    }
   ],
   "source": [
    "print(tr_features)"
   ]
  },
  {
   "cell_type": "code",
   "execution_count": null,
   "metadata": {},
   "outputs": [
    {
     "name": "stdout",
     "output_type": "stream",
     "text": [
      "Training and evaluating svm...\n",
      "Saved svm classifier to trained_clfs\\trained_svm_classifier.pkl\n",
      "svm: Acc - 0.9863, Hacc - 0.9729, NHacc - 1.0000\n",
      "\n",
      "          Hybrid-Recall: 0.9976190476190476\n",
      "          Hybrid-Precision: 0.95662100456621\n",
      "          f1-Score: 0.9766899766899767\n",
      "          ROC AUC: 0.9749401770758555\n",
      "          Accuracy: 0.9755501222493888\n",
      "          \n",
      "Training and evaluating sgd...\n",
      "Saved sgd classifier to trained_clfs\\trained_sgd_classifier.pkl\n",
      "sgd: Acc - 0.9847, Hacc - 0.9759, NHacc - 0.9938\n",
      "\n",
      "          Hybrid-Recall: 1.0\n",
      "          Hybrid-Precision: 0.9567198177676538\n",
      "          f1-Score: 0.9778812572759022\n",
      "          ROC AUC: 0.9761306532663316\n",
      "          Accuracy: 0.9767726161369193\n",
      "          \n",
      "Training and evaluating knn...\n",
      "Saved knn classifier to trained_clfs\\trained_knn_classifier.pkl\n",
      "knn: Acc - 0.9908, Hacc - 0.9819, NHacc - 1.0000\n",
      "\n",
      "          Hybrid-Recall: 0.9976190476190476\n",
      "          Hybrid-Precision: 0.95662100456621\n",
      "          f1-Score: 0.9766899766899767\n",
      "          ROC AUC: 0.9749401770758555\n",
      "          Accuracy: 0.9755501222493888\n",
      "          \n"
     ]
    }
   ],
   "source": [
    "# Train classifier with visual features\n",
    "csv_output, score_output = training.train_and_evaluate(tr_features, tr_labels, test_features, test_labels)"
   ]
  },
  {
   "cell_type": "code",
   "execution_count": 16,
   "metadata": {},
   "outputs": [],
   "source": [
    "# Save evaluation results\n",
    "csv_filename = training.CLF_SAVE_DIR / \"classifier_evaluation_results.csv\"\n",
    "with open(csv_filename, mode='w', newline='') as file:\n",
    "    writer = csv.writer(file)\n",
    "    writer.writerow([\"Configuration\", \"AUC\", \"Precision\", \"Recall\", \"F1-score\"])\n",
    "    writer.writerows(csv_output)\n",
    "\n",
    "# Save individual scores\n",
    "scores_filename = training.CLF_SAVE_DIR / \"classifier_scores.csv\"\n",
    "with open(scores_filename, mode='w', newline='') as score_file:\n",
    "    score_writer = csv.writer(score_file)\n",
    "    score_writer.writerow([\"Index\", \"Score\", \"True Label\"])\n",
    "    score_writer.writerows(score_output)"
   ]
  },
  {
   "cell_type": "code",
   "execution_count": null,
   "metadata": {},
   "outputs": [],
   "source": []
  }
 ],
 "metadata": {
  "kernelspec": {
   "display_name": "butterfly-detection",
   "language": "python",
   "name": "python3"
  },
  "language_info": {
   "codemirror_mode": {
    "name": "ipython",
    "version": 3
   },
   "file_extension": ".py",
   "mimetype": "text/x-python",
   "name": "python",
   "nbconvert_exporter": "python",
   "pygments_lexer": "ipython3",
   "version": "3.10.16"
  }
 },
 "nbformat": 4,
 "nbformat_minor": 4
}
