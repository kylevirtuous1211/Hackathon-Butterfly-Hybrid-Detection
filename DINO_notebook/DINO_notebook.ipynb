{
 "cells": [
  {
   "cell_type": "code",
   "execution_count": 1,
   "metadata": {},
   "outputs": [],
   "source": [
    "import pandas as pd\n",
    "import seaborn as sns\n",
    "\n",
    "sns.set_style(\"whitegrid\")"
   ]
  },
  {
   "cell_type": "markdown",
   "metadata": {},
   "source": [
    "## Load in the dataset CSV"
   ]
  },
  {
   "cell_type": "code",
   "execution_count": 2,
   "metadata": {},
   "outputs": [
    {
     "data": {
      "text/html": [
       "<div>\n",
       "<style scoped>\n",
       "    .dataframe tbody tr th:only-of-type {\n",
       "        vertical-align: middle;\n",
       "    }\n",
       "\n",
       "    .dataframe tbody tr th {\n",
       "        vertical-align: top;\n",
       "    }\n",
       "\n",
       "    .dataframe thead th {\n",
       "        text-align: right;\n",
       "    }\n",
       "</style>\n",
       "<table border=\"1\" class=\"dataframe\">\n",
       "  <thead>\n",
       "    <tr style=\"text-align: right;\">\n",
       "      <th></th>\n",
       "      <th>f</th>\n",
       "      <th>file_url</th>\n",
       "      <th>hybrid_stat</th>\n",
       "      <th>split</th>\n",
       "      <th>zenodo_link</th>\n",
       "      <th>md5</th>\n",
       "      <th>subspecies</th>\n",
       "      <th>parent_subspecies_1</th>\n",
       "      <th>parent_subspecies_2</th>\n",
       "      <th>filename</th>\n",
       "      <th>classification</th>\n",
       "    </tr>\n",
       "  </thead>\n",
       "  <tbody>\n",
       "    <tr>\n",
       "      <th>0</th>\n",
       "      <td>CAM017821</td>\n",
       "      <td>https://zenodo.org/record/1748277/files/CAM017...</td>\n",
       "      <td>hybrid</td>\n",
       "      <td>train</td>\n",
       "      <td>https://zenodo.org/record/1748277</td>\n",
       "      <td>ba38c61337e2d720f5f72451387d4a48</td>\n",
       "      <td>NaN</td>\n",
       "      <td>8.0</td>\n",
       "      <td>9.0</td>\n",
       "      <td>CAM017821.jpg</td>\n",
       "      <td>8.0 and 9.0</td>\n",
       "    </tr>\n",
       "    <tr>\n",
       "      <th>1</th>\n",
       "      <td>CAM017820</td>\n",
       "      <td>https://zenodo.org/record/1748277/files/CAM017...</td>\n",
       "      <td>hybrid</td>\n",
       "      <td>train</td>\n",
       "      <td>https://zenodo.org/record/1748277</td>\n",
       "      <td>9a2ff257a0ad17055eae3cc6c279a62b</td>\n",
       "      <td>NaN</td>\n",
       "      <td>8.0</td>\n",
       "      <td>9.0</td>\n",
       "      <td>CAM017820.jpg</td>\n",
       "      <td>8.0 and 9.0</td>\n",
       "    </tr>\n",
       "    <tr>\n",
       "      <th>2</th>\n",
       "      <td>CAM017693</td>\n",
       "      <td>https://zenodo.org/record/1748277/files/CAM017...</td>\n",
       "      <td>hybrid</td>\n",
       "      <td>train</td>\n",
       "      <td>https://zenodo.org/record/1748277</td>\n",
       "      <td>c314eec15bb53750bdd68595d95a5e93</td>\n",
       "      <td>NaN</td>\n",
       "      <td>8.0</td>\n",
       "      <td>9.0</td>\n",
       "      <td>CAM017693.jpg</td>\n",
       "      <td>8.0 and 9.0</td>\n",
       "    </tr>\n",
       "    <tr>\n",
       "      <th>3</th>\n",
       "      <td>CAM018291</td>\n",
       "      <td>https://zenodo.org/record/2548678/files/CAM018...</td>\n",
       "      <td>non-hybrid</td>\n",
       "      <td>train</td>\n",
       "      <td>https://zenodo.org/record/2548678</td>\n",
       "      <td>e3a7bf83bdb9f11c035873a623a31345</td>\n",
       "      <td>8.0</td>\n",
       "      <td>NaN</td>\n",
       "      <td>NaN</td>\n",
       "      <td>CAM018291.jpg</td>\n",
       "      <td>8</td>\n",
       "    </tr>\n",
       "    <tr>\n",
       "      <th>4</th>\n",
       "      <td>CAM011430</td>\n",
       "      <td>https://zenodo.org/record/2550097/files/CAM011...</td>\n",
       "      <td>non-hybrid</td>\n",
       "      <td>train</td>\n",
       "      <td>https://zenodo.org/record/2550097</td>\n",
       "      <td>5060c653aea379c72802aa3ef8af32b0</td>\n",
       "      <td>9.0</td>\n",
       "      <td>NaN</td>\n",
       "      <td>NaN</td>\n",
       "      <td>CAM011430.jpg</td>\n",
       "      <td>9</td>\n",
       "    </tr>\n",
       "  </tbody>\n",
       "</table>\n",
       "</div>"
      ],
      "text/plain": [
       "           f                                           file_url hybrid_stat  \\\n",
       "0  CAM017821  https://zenodo.org/record/1748277/files/CAM017...      hybrid   \n",
       "1  CAM017820  https://zenodo.org/record/1748277/files/CAM017...      hybrid   \n",
       "2  CAM017693  https://zenodo.org/record/1748277/files/CAM017...      hybrid   \n",
       "3  CAM018291  https://zenodo.org/record/2548678/files/CAM018...  non-hybrid   \n",
       "4  CAM011430  https://zenodo.org/record/2550097/files/CAM011...  non-hybrid   \n",
       "\n",
       "   split                        zenodo_link                               md5  \\\n",
       "0  train  https://zenodo.org/record/1748277  ba38c61337e2d720f5f72451387d4a48   \n",
       "1  train  https://zenodo.org/record/1748277  9a2ff257a0ad17055eae3cc6c279a62b   \n",
       "2  train  https://zenodo.org/record/1748277  c314eec15bb53750bdd68595d95a5e93   \n",
       "3  train  https://zenodo.org/record/2548678  e3a7bf83bdb9f11c035873a623a31345   \n",
       "4  train  https://zenodo.org/record/2550097  5060c653aea379c72802aa3ef8af32b0   \n",
       "\n",
       "   subspecies  parent_subspecies_1  parent_subspecies_2       filename  \\\n",
       "0         NaN                  8.0                  9.0  CAM017821.jpg   \n",
       "1         NaN                  8.0                  9.0  CAM017820.jpg   \n",
       "2         NaN                  8.0                  9.0  CAM017693.jpg   \n",
       "3         8.0                  NaN                  NaN  CAM018291.jpg   \n",
       "4         9.0                  NaN                  NaN  CAM011430.jpg   \n",
       "\n",
       "  classification  \n",
       "0    8.0 and 9.0  \n",
       "1    8.0 and 9.0  \n",
       "2    8.0 and 9.0  \n",
       "3              8  \n",
       "4              9  "
      ]
     },
     "execution_count": 2,
     "metadata": {},
     "output_type": "execute_result"
    }
   ],
   "source": [
    "df = pd.read_csv(\"../input_data/butterfly_anomaly_train.csv\")\n",
    "df.head()"
   ]
  },
  {
   "cell_type": "markdown",
   "metadata": {},
   "source": [
    "## Make one column with classification\n",
    "\n",
    "This is the subspecies (which may is a mix of two for some specimens, the hybrids); this is for coloring the distribution plot by hybrid status and showing all together."
   ]
  },
  {
   "cell_type": "code",
   "execution_count": 3,
   "metadata": {},
   "outputs": [
    {
     "ename": "KeyError",
     "evalue": "'CAMID'",
     "output_type": "error",
     "traceback": [
      "\u001b[1;31m---------------------------------------------------------------------------\u001b[0m",
      "\u001b[1;31mKeyError\u001b[0m                                  Traceback (most recent call last)",
      "File \u001b[1;32mc:\\Users\\Admin-62501\\anaconda3\\envs\\butterfly-detection\\lib\\site-packages\\pandas\\core\\indexes\\base.py:3805\u001b[0m, in \u001b[0;36mIndex.get_loc\u001b[1;34m(self, key)\u001b[0m\n\u001b[0;32m   3804\u001b[0m \u001b[38;5;28;01mtry\u001b[39;00m:\n\u001b[1;32m-> 3805\u001b[0m     \u001b[38;5;28;01mreturn\u001b[39;00m \u001b[38;5;28;43mself\u001b[39;49m\u001b[38;5;241;43m.\u001b[39;49m\u001b[43m_engine\u001b[49m\u001b[38;5;241;43m.\u001b[39;49m\u001b[43mget_loc\u001b[49m\u001b[43m(\u001b[49m\u001b[43mcasted_key\u001b[49m\u001b[43m)\u001b[49m\n\u001b[0;32m   3806\u001b[0m \u001b[38;5;28;01mexcept\u001b[39;00m \u001b[38;5;167;01mKeyError\u001b[39;00m \u001b[38;5;28;01mas\u001b[39;00m err:\n",
      "File \u001b[1;32mindex.pyx:167\u001b[0m, in \u001b[0;36mpandas._libs.index.IndexEngine.get_loc\u001b[1;34m()\u001b[0m\n",
      "File \u001b[1;32mindex.pyx:196\u001b[0m, in \u001b[0;36mpandas._libs.index.IndexEngine.get_loc\u001b[1;34m()\u001b[0m\n",
      "File \u001b[1;32mpandas\\\\_libs\\\\hashtable_class_helper.pxi:7081\u001b[0m, in \u001b[0;36mpandas._libs.hashtable.PyObjectHashTable.get_item\u001b[1;34m()\u001b[0m\n",
      "File \u001b[1;32mpandas\\\\_libs\\\\hashtable_class_helper.pxi:7089\u001b[0m, in \u001b[0;36mpandas._libs.hashtable.PyObjectHashTable.get_item\u001b[1;34m()\u001b[0m\n",
      "\u001b[1;31mKeyError\u001b[0m: 'CAMID'",
      "\nThe above exception was the direct cause of the following exception:\n",
      "\u001b[1;31mKeyError\u001b[0m                                  Traceback (most recent call last)",
      "Cell \u001b[1;32mIn[3], line 2\u001b[0m\n\u001b[0;32m      1\u001b[0m \u001b[38;5;66;03m# camid: class activation map id\u001b[39;00m\n\u001b[1;32m----> 2\u001b[0m \u001b[38;5;28;01mfor\u001b[39;00m camid \u001b[38;5;129;01min\u001b[39;00m \u001b[38;5;28mlist\u001b[39m(\u001b[43mdf\u001b[49m\u001b[38;5;241;43m.\u001b[39;49m\u001b[43mloc\u001b[49m\u001b[43m[\u001b[49m\u001b[43mdf\u001b[49m\u001b[43m[\u001b[49m\u001b[38;5;124;43m\"\u001b[39;49m\u001b[38;5;124;43msubspecies\u001b[39;49m\u001b[38;5;124;43m\"\u001b[39;49m\u001b[43m]\u001b[49m\u001b[38;5;241;43m.\u001b[39;49m\u001b[43misna\u001b[49m\u001b[43m(\u001b[49m\u001b[43m)\u001b[49m\u001b[43m,\u001b[49m\u001b[43m \u001b[49m\u001b[38;5;124;43m\"\u001b[39;49m\u001b[38;5;124;43mCAMID\u001b[39;49m\u001b[38;5;124;43m\"\u001b[39;49m\u001b[43m]\u001b[49m):\n\u001b[0;32m      3\u001b[0m     temp \u001b[38;5;241m=\u001b[39m df\u001b[38;5;241m.\u001b[39mloc[df[\u001b[38;5;124m\"\u001b[39m\u001b[38;5;124mCAMID\u001b[39m\u001b[38;5;124m\"\u001b[39m] \u001b[38;5;241m==\u001b[39m camid]\n\u001b[0;32m      4\u001b[0m     subspecies \u001b[38;5;241m=\u001b[39m temp[\u001b[38;5;124m\"\u001b[39m\u001b[38;5;124mparent_subspecies_1\u001b[39m\u001b[38;5;124m\"\u001b[39m]\u001b[38;5;241m.\u001b[39mastype(\u001b[38;5;28mstr\u001b[39m) \u001b[38;5;241m+\u001b[39m \u001b[38;5;124m\"\u001b[39m\u001b[38;5;124m and \u001b[39m\u001b[38;5;124m\"\u001b[39m \u001b[38;5;241m+\u001b[39m temp[\u001b[38;5;124m\"\u001b[39m\u001b[38;5;124mparent_subspecies_2\u001b[39m\u001b[38;5;124m\"\u001b[39m]\u001b[38;5;241m.\u001b[39mastype(\u001b[38;5;28mstr\u001b[39m)\n",
      "File \u001b[1;32mc:\\Users\\Admin-62501\\anaconda3\\envs\\butterfly-detection\\lib\\site-packages\\pandas\\core\\indexing.py:1184\u001b[0m, in \u001b[0;36m_LocationIndexer.__getitem__\u001b[1;34m(self, key)\u001b[0m\n\u001b[0;32m   1182\u001b[0m     \u001b[38;5;28;01mif\u001b[39;00m \u001b[38;5;28mself\u001b[39m\u001b[38;5;241m.\u001b[39m_is_scalar_access(key):\n\u001b[0;32m   1183\u001b[0m         \u001b[38;5;28;01mreturn\u001b[39;00m \u001b[38;5;28mself\u001b[39m\u001b[38;5;241m.\u001b[39mobj\u001b[38;5;241m.\u001b[39m_get_value(\u001b[38;5;241m*\u001b[39mkey, takeable\u001b[38;5;241m=\u001b[39m\u001b[38;5;28mself\u001b[39m\u001b[38;5;241m.\u001b[39m_takeable)\n\u001b[1;32m-> 1184\u001b[0m     \u001b[38;5;28;01mreturn\u001b[39;00m \u001b[38;5;28;43mself\u001b[39;49m\u001b[38;5;241;43m.\u001b[39;49m\u001b[43m_getitem_tuple\u001b[49m\u001b[43m(\u001b[49m\u001b[43mkey\u001b[49m\u001b[43m)\u001b[49m\n\u001b[0;32m   1185\u001b[0m \u001b[38;5;28;01melse\u001b[39;00m:\n\u001b[0;32m   1186\u001b[0m     \u001b[38;5;66;03m# we by definition only have the 0th axis\u001b[39;00m\n\u001b[0;32m   1187\u001b[0m     axis \u001b[38;5;241m=\u001b[39m \u001b[38;5;28mself\u001b[39m\u001b[38;5;241m.\u001b[39maxis \u001b[38;5;129;01mor\u001b[39;00m \u001b[38;5;241m0\u001b[39m\n",
      "File \u001b[1;32mc:\\Users\\Admin-62501\\anaconda3\\envs\\butterfly-detection\\lib\\site-packages\\pandas\\core\\indexing.py:1368\u001b[0m, in \u001b[0;36m_LocIndexer._getitem_tuple\u001b[1;34m(self, tup)\u001b[0m\n\u001b[0;32m   1366\u001b[0m \u001b[38;5;28;01mwith\u001b[39;00m suppress(IndexingError):\n\u001b[0;32m   1367\u001b[0m     tup \u001b[38;5;241m=\u001b[39m \u001b[38;5;28mself\u001b[39m\u001b[38;5;241m.\u001b[39m_expand_ellipsis(tup)\n\u001b[1;32m-> 1368\u001b[0m     \u001b[38;5;28;01mreturn\u001b[39;00m \u001b[38;5;28;43mself\u001b[39;49m\u001b[38;5;241;43m.\u001b[39;49m\u001b[43m_getitem_lowerdim\u001b[49m\u001b[43m(\u001b[49m\u001b[43mtup\u001b[49m\u001b[43m)\u001b[49m\n\u001b[0;32m   1370\u001b[0m \u001b[38;5;66;03m# no multi-index, so validate all of the indexers\u001b[39;00m\n\u001b[0;32m   1371\u001b[0m tup \u001b[38;5;241m=\u001b[39m \u001b[38;5;28mself\u001b[39m\u001b[38;5;241m.\u001b[39m_validate_tuple_indexer(tup)\n",
      "File \u001b[1;32mc:\\Users\\Admin-62501\\anaconda3\\envs\\butterfly-detection\\lib\\site-packages\\pandas\\core\\indexing.py:1065\u001b[0m, in \u001b[0;36m_LocationIndexer._getitem_lowerdim\u001b[1;34m(self, tup)\u001b[0m\n\u001b[0;32m   1061\u001b[0m \u001b[38;5;28;01mfor\u001b[39;00m i, key \u001b[38;5;129;01min\u001b[39;00m \u001b[38;5;28menumerate\u001b[39m(tup):\n\u001b[0;32m   1062\u001b[0m     \u001b[38;5;28;01mif\u001b[39;00m is_label_like(key):\n\u001b[0;32m   1063\u001b[0m         \u001b[38;5;66;03m# We don't need to check for tuples here because those are\u001b[39;00m\n\u001b[0;32m   1064\u001b[0m         \u001b[38;5;66;03m#  caught by the _is_nested_tuple_indexer check above.\u001b[39;00m\n\u001b[1;32m-> 1065\u001b[0m         section \u001b[38;5;241m=\u001b[39m \u001b[38;5;28;43mself\u001b[39;49m\u001b[38;5;241;43m.\u001b[39;49m\u001b[43m_getitem_axis\u001b[49m\u001b[43m(\u001b[49m\u001b[43mkey\u001b[49m\u001b[43m,\u001b[49m\u001b[43m \u001b[49m\u001b[43maxis\u001b[49m\u001b[38;5;241;43m=\u001b[39;49m\u001b[43mi\u001b[49m\u001b[43m)\u001b[49m\n\u001b[0;32m   1067\u001b[0m         \u001b[38;5;66;03m# We should never have a scalar section here, because\u001b[39;00m\n\u001b[0;32m   1068\u001b[0m         \u001b[38;5;66;03m#  _getitem_lowerdim is only called after a check for\u001b[39;00m\n\u001b[0;32m   1069\u001b[0m         \u001b[38;5;66;03m#  is_scalar_access, which that would be.\u001b[39;00m\n\u001b[0;32m   1070\u001b[0m         \u001b[38;5;28;01mif\u001b[39;00m section\u001b[38;5;241m.\u001b[39mndim \u001b[38;5;241m==\u001b[39m \u001b[38;5;28mself\u001b[39m\u001b[38;5;241m.\u001b[39mndim:\n\u001b[0;32m   1071\u001b[0m             \u001b[38;5;66;03m# we're in the middle of slicing through a MultiIndex\u001b[39;00m\n\u001b[0;32m   1072\u001b[0m             \u001b[38;5;66;03m# revise the key wrt to `section` by inserting an _NS\u001b[39;00m\n",
      "File \u001b[1;32mc:\\Users\\Admin-62501\\anaconda3\\envs\\butterfly-detection\\lib\\site-packages\\pandas\\core\\indexing.py:1431\u001b[0m, in \u001b[0;36m_LocIndexer._getitem_axis\u001b[1;34m(self, key, axis)\u001b[0m\n\u001b[0;32m   1429\u001b[0m \u001b[38;5;66;03m# fall thru to straight lookup\u001b[39;00m\n\u001b[0;32m   1430\u001b[0m \u001b[38;5;28mself\u001b[39m\u001b[38;5;241m.\u001b[39m_validate_key(key, axis)\n\u001b[1;32m-> 1431\u001b[0m \u001b[38;5;28;01mreturn\u001b[39;00m \u001b[38;5;28;43mself\u001b[39;49m\u001b[38;5;241;43m.\u001b[39;49m\u001b[43m_get_label\u001b[49m\u001b[43m(\u001b[49m\u001b[43mkey\u001b[49m\u001b[43m,\u001b[49m\u001b[43m \u001b[49m\u001b[43maxis\u001b[49m\u001b[38;5;241;43m=\u001b[39;49m\u001b[43maxis\u001b[49m\u001b[43m)\u001b[49m\n",
      "File \u001b[1;32mc:\\Users\\Admin-62501\\anaconda3\\envs\\butterfly-detection\\lib\\site-packages\\pandas\\core\\indexing.py:1381\u001b[0m, in \u001b[0;36m_LocIndexer._get_label\u001b[1;34m(self, label, axis)\u001b[0m\n\u001b[0;32m   1379\u001b[0m \u001b[38;5;28;01mdef\u001b[39;00m \u001b[38;5;21m_get_label\u001b[39m(\u001b[38;5;28mself\u001b[39m, label, axis: AxisInt):\n\u001b[0;32m   1380\u001b[0m     \u001b[38;5;66;03m# GH#5567 this will fail if the label is not present in the axis.\u001b[39;00m\n\u001b[1;32m-> 1381\u001b[0m     \u001b[38;5;28;01mreturn\u001b[39;00m \u001b[38;5;28;43mself\u001b[39;49m\u001b[38;5;241;43m.\u001b[39;49m\u001b[43mobj\u001b[49m\u001b[38;5;241;43m.\u001b[39;49m\u001b[43mxs\u001b[49m\u001b[43m(\u001b[49m\u001b[43mlabel\u001b[49m\u001b[43m,\u001b[49m\u001b[43m \u001b[49m\u001b[43maxis\u001b[49m\u001b[38;5;241;43m=\u001b[39;49m\u001b[43maxis\u001b[49m\u001b[43m)\u001b[49m\n",
      "File \u001b[1;32mc:\\Users\\Admin-62501\\anaconda3\\envs\\butterfly-detection\\lib\\site-packages\\pandas\\core\\generic.py:4287\u001b[0m, in \u001b[0;36mNDFrame.xs\u001b[1;34m(self, key, axis, level, drop_level)\u001b[0m\n\u001b[0;32m   4285\u001b[0m \u001b[38;5;28;01mif\u001b[39;00m axis \u001b[38;5;241m==\u001b[39m \u001b[38;5;241m1\u001b[39m:\n\u001b[0;32m   4286\u001b[0m     \u001b[38;5;28;01mif\u001b[39;00m drop_level:\n\u001b[1;32m-> 4287\u001b[0m         \u001b[38;5;28;01mreturn\u001b[39;00m \u001b[38;5;28;43mself\u001b[39;49m\u001b[43m[\u001b[49m\u001b[43mkey\u001b[49m\u001b[43m]\u001b[49m\n\u001b[0;32m   4288\u001b[0m     index \u001b[38;5;241m=\u001b[39m \u001b[38;5;28mself\u001b[39m\u001b[38;5;241m.\u001b[39mcolumns\n\u001b[0;32m   4289\u001b[0m \u001b[38;5;28;01melse\u001b[39;00m:\n",
      "File \u001b[1;32mc:\\Users\\Admin-62501\\anaconda3\\envs\\butterfly-detection\\lib\\site-packages\\pandas\\core\\frame.py:4102\u001b[0m, in \u001b[0;36mDataFrame.__getitem__\u001b[1;34m(self, key)\u001b[0m\n\u001b[0;32m   4100\u001b[0m \u001b[38;5;28;01mif\u001b[39;00m \u001b[38;5;28mself\u001b[39m\u001b[38;5;241m.\u001b[39mcolumns\u001b[38;5;241m.\u001b[39mnlevels \u001b[38;5;241m>\u001b[39m \u001b[38;5;241m1\u001b[39m:\n\u001b[0;32m   4101\u001b[0m     \u001b[38;5;28;01mreturn\u001b[39;00m \u001b[38;5;28mself\u001b[39m\u001b[38;5;241m.\u001b[39m_getitem_multilevel(key)\n\u001b[1;32m-> 4102\u001b[0m indexer \u001b[38;5;241m=\u001b[39m \u001b[38;5;28;43mself\u001b[39;49m\u001b[38;5;241;43m.\u001b[39;49m\u001b[43mcolumns\u001b[49m\u001b[38;5;241;43m.\u001b[39;49m\u001b[43mget_loc\u001b[49m\u001b[43m(\u001b[49m\u001b[43mkey\u001b[49m\u001b[43m)\u001b[49m\n\u001b[0;32m   4103\u001b[0m \u001b[38;5;28;01mif\u001b[39;00m is_integer(indexer):\n\u001b[0;32m   4104\u001b[0m     indexer \u001b[38;5;241m=\u001b[39m [indexer]\n",
      "File \u001b[1;32mc:\\Users\\Admin-62501\\anaconda3\\envs\\butterfly-detection\\lib\\site-packages\\pandas\\core\\indexes\\base.py:3812\u001b[0m, in \u001b[0;36mIndex.get_loc\u001b[1;34m(self, key)\u001b[0m\n\u001b[0;32m   3807\u001b[0m     \u001b[38;5;28;01mif\u001b[39;00m \u001b[38;5;28misinstance\u001b[39m(casted_key, \u001b[38;5;28mslice\u001b[39m) \u001b[38;5;129;01mor\u001b[39;00m (\n\u001b[0;32m   3808\u001b[0m         \u001b[38;5;28misinstance\u001b[39m(casted_key, abc\u001b[38;5;241m.\u001b[39mIterable)\n\u001b[0;32m   3809\u001b[0m         \u001b[38;5;129;01mand\u001b[39;00m \u001b[38;5;28many\u001b[39m(\u001b[38;5;28misinstance\u001b[39m(x, \u001b[38;5;28mslice\u001b[39m) \u001b[38;5;28;01mfor\u001b[39;00m x \u001b[38;5;129;01min\u001b[39;00m casted_key)\n\u001b[0;32m   3810\u001b[0m     ):\n\u001b[0;32m   3811\u001b[0m         \u001b[38;5;28;01mraise\u001b[39;00m InvalidIndexError(key)\n\u001b[1;32m-> 3812\u001b[0m     \u001b[38;5;28;01mraise\u001b[39;00m \u001b[38;5;167;01mKeyError\u001b[39;00m(key) \u001b[38;5;28;01mfrom\u001b[39;00m \u001b[38;5;21;01merr\u001b[39;00m\n\u001b[0;32m   3813\u001b[0m \u001b[38;5;28;01mexcept\u001b[39;00m \u001b[38;5;167;01mTypeError\u001b[39;00m:\n\u001b[0;32m   3814\u001b[0m     \u001b[38;5;66;03m# If we have a listlike key, _check_indexing_error will raise\u001b[39;00m\n\u001b[0;32m   3815\u001b[0m     \u001b[38;5;66;03m#  InvalidIndexError. Otherwise we fall through and re-raise\u001b[39;00m\n\u001b[0;32m   3816\u001b[0m     \u001b[38;5;66;03m#  the TypeError.\u001b[39;00m\n\u001b[0;32m   3817\u001b[0m     \u001b[38;5;28mself\u001b[39m\u001b[38;5;241m.\u001b[39m_check_indexing_error(key)\n",
      "\u001b[1;31mKeyError\u001b[0m: 'CAMID'"
     ]
    }
   ],
   "source": [
    "# camid: class activation map id\n",
    "for camid in list(df.loc[df[\"subspecies\"].isna(), \"CAMID\"]):\n",
    "    temp = df.loc[df[\"CAMID\"] == camid]\n",
    "    subspecies = temp[\"parent_subspecies_1\"].astype(str) + \" and \" + temp[\"parent_subspecies_2\"].astype(str)\n",
    "    df.loc[df[\"CAMID\"] == camid, \"classification\"] = subspecies\n",
    "for camid in list(df.loc[df[\"subspecies\"].notna(), \"CAMID\"]):\n",
    "    temp = df.loc[df[\"CAMID\"] == camid]\n",
    "    subspecies = temp[\"subspecies\"].astype(str)\n",
    "    df.loc[df[\"CAMID\"] == camid, \"classification\"] = subspecies"
   ]
  },
  {
   "cell_type": "code",
   "execution_count": 5,
   "metadata": {},
   "outputs": [
    {
     "data": {
      "text/html": [
       "<div>\n",
       "<style scoped>\n",
       "    .dataframe tbody tr th:only-of-type {\n",
       "        vertical-align: middle;\n",
       "    }\n",
       "\n",
       "    .dataframe tbody tr th {\n",
       "        vertical-align: top;\n",
       "    }\n",
       "\n",
       "    .dataframe thead th {\n",
       "        text-align: right;\n",
       "    }\n",
       "</style>\n",
       "<table border=\"1\" class=\"dataframe\">\n",
       "  <thead>\n",
       "    <tr style=\"text-align: right;\">\n",
       "      <th></th>\n",
       "      <th>CAMID</th>\n",
       "      <th>file_url</th>\n",
       "      <th>hybrid_stat</th>\n",
       "      <th>split</th>\n",
       "      <th>zenodo_link</th>\n",
       "      <th>md5</th>\n",
       "      <th>subspecies</th>\n",
       "      <th>parent_subspecies_1</th>\n",
       "      <th>parent_subspecies_2</th>\n",
       "      <th>filename</th>\n",
       "      <th>classification</th>\n",
       "    </tr>\n",
       "  </thead>\n",
       "  <tbody>\n",
       "    <tr>\n",
       "      <th>0</th>\n",
       "      <td>CAM017821</td>\n",
       "      <td>https://zenodo.org/record/1748277/files/CAM017...</td>\n",
       "      <td>hybrid</td>\n",
       "      <td>train</td>\n",
       "      <td>https://zenodo.org/record/1748277</td>\n",
       "      <td>ba38c61337e2d720f5f72451387d4a48</td>\n",
       "      <td>NaN</td>\n",
       "      <td>8.0</td>\n",
       "      <td>9.0</td>\n",
       "      <td>CAM017821.jpg</td>\n",
       "      <td>8.0 and 9.0</td>\n",
       "    </tr>\n",
       "    <tr>\n",
       "      <th>1</th>\n",
       "      <td>CAM017820</td>\n",
       "      <td>https://zenodo.org/record/1748277/files/CAM017...</td>\n",
       "      <td>hybrid</td>\n",
       "      <td>train</td>\n",
       "      <td>https://zenodo.org/record/1748277</td>\n",
       "      <td>9a2ff257a0ad17055eae3cc6c279a62b</td>\n",
       "      <td>NaN</td>\n",
       "      <td>8.0</td>\n",
       "      <td>9.0</td>\n",
       "      <td>CAM017820.jpg</td>\n",
       "      <td>8.0 and 9.0</td>\n",
       "    </tr>\n",
       "    <tr>\n",
       "      <th>2</th>\n",
       "      <td>CAM017693</td>\n",
       "      <td>https://zenodo.org/record/1748277/files/CAM017...</td>\n",
       "      <td>hybrid</td>\n",
       "      <td>train</td>\n",
       "      <td>https://zenodo.org/record/1748277</td>\n",
       "      <td>c314eec15bb53750bdd68595d95a5e93</td>\n",
       "      <td>NaN</td>\n",
       "      <td>8.0</td>\n",
       "      <td>9.0</td>\n",
       "      <td>CAM017693.jpg</td>\n",
       "      <td>8.0 and 9.0</td>\n",
       "    </tr>\n",
       "    <tr>\n",
       "      <th>3</th>\n",
       "      <td>CAM018291</td>\n",
       "      <td>https://zenodo.org/record/2548678/files/CAM018...</td>\n",
       "      <td>non-hybrid</td>\n",
       "      <td>train</td>\n",
       "      <td>https://zenodo.org/record/2548678</td>\n",
       "      <td>e3a7bf83bdb9f11c035873a623a31345</td>\n",
       "      <td>8.0</td>\n",
       "      <td>NaN</td>\n",
       "      <td>NaN</td>\n",
       "      <td>CAM018291.jpg</td>\n",
       "      <td>8.0</td>\n",
       "    </tr>\n",
       "    <tr>\n",
       "      <th>4</th>\n",
       "      <td>CAM011430</td>\n",
       "      <td>https://zenodo.org/record/2550097/files/CAM011...</td>\n",
       "      <td>non-hybrid</td>\n",
       "      <td>train</td>\n",
       "      <td>https://zenodo.org/record/2550097</td>\n",
       "      <td>5060c653aea379c72802aa3ef8af32b0</td>\n",
       "      <td>9.0</td>\n",
       "      <td>NaN</td>\n",
       "      <td>NaN</td>\n",
       "      <td>CAM011430.jpg</td>\n",
       "      <td>9.0</td>\n",
       "    </tr>\n",
       "  </tbody>\n",
       "</table>\n",
       "</div>"
      ],
      "text/plain": [
       "       CAMID                                           file_url hybrid_stat  \\\n",
       "0  CAM017821  https://zenodo.org/record/1748277/files/CAM017...      hybrid   \n",
       "1  CAM017820  https://zenodo.org/record/1748277/files/CAM017...      hybrid   \n",
       "2  CAM017693  https://zenodo.org/record/1748277/files/CAM017...      hybrid   \n",
       "3  CAM018291  https://zenodo.org/record/2548678/files/CAM018...  non-hybrid   \n",
       "4  CAM011430  https://zenodo.org/record/2550097/files/CAM011...  non-hybrid   \n",
       "\n",
       "   split                        zenodo_link                               md5  \\\n",
       "0  train  https://zenodo.org/record/1748277  ba38c61337e2d720f5f72451387d4a48   \n",
       "1  train  https://zenodo.org/record/1748277  9a2ff257a0ad17055eae3cc6c279a62b   \n",
       "2  train  https://zenodo.org/record/1748277  c314eec15bb53750bdd68595d95a5e93   \n",
       "3  train  https://zenodo.org/record/2548678  e3a7bf83bdb9f11c035873a623a31345   \n",
       "4  train  https://zenodo.org/record/2550097  5060c653aea379c72802aa3ef8af32b0   \n",
       "\n",
       "   subspecies  parent_subspecies_1  parent_subspecies_2       filename  \\\n",
       "0         NaN                  8.0                  9.0  CAM017821.jpg   \n",
       "1         NaN                  8.0                  9.0  CAM017820.jpg   \n",
       "2         NaN                  8.0                  9.0  CAM017693.jpg   \n",
       "3         8.0                  NaN                  NaN  CAM018291.jpg   \n",
       "4         9.0                  NaN                  NaN  CAM011430.jpg   \n",
       "\n",
       "  classification  \n",
       "0    8.0 and 9.0  \n",
       "1    8.0 and 9.0  \n",
       "2    8.0 and 9.0  \n",
       "3            8.0  \n",
       "4            9.0  "
      ]
     },
     "execution_count": 5,
     "metadata": {},
     "output_type": "execute_result"
    }
   ],
   "source": [
    "df.head()"
   ]
  },
  {
   "cell_type": "markdown",
   "metadata": {},
   "source": [
    "## Get distribution of images by subspecies (colored by hybrid status)"
   ]
  },
  {
   "cell_type": "code",
   "execution_count": 6,
   "metadata": {},
   "outputs": [
    {
     "data": {
      "text/plain": [
       "<Axes: xlabel='Count', ylabel='classification'>"
      ]
     },
     "execution_count": 6,
     "metadata": {},
     "output_type": "execute_result"
    },
    {
     "data": {
      "image/png": "[encoded data removed]",
      "text/plain": [
       "<Figure size 640x480 with 1 Axes>"
      ]
     },
     "metadata": {},
     "output_type": "display_data"
    }
   ],
   "source": [
    "sns.histplot(df, y = \"classification\", hue = \"hybrid_stat\")"
   ]
  },
  {
   "cell_type": "markdown",
   "metadata": {},
   "source": [
    "## Start here"
   ]
  },
  {
   "cell_type": "markdown",
   "metadata": {},
   "source": [
    "## Import training requirements"
   ]
  },
  {
   "cell_type": "code",
   "execution_count": 1,
   "metadata": {},
   "outputs": [],
   "source": [
    "import torch\n",
    "import sys\n",
    "import os\n",
    "import csv\n",
    "from pathlib import Path\n",
    "# Add your path of library\n",
    "sys.path.append('../DINO_train')\n",
    "import training"
   ]
  },
  {
   "cell_type": "markdown",
   "metadata": {},
   "source": []
  },
  {
   "cell_type": "markdown",
   "metadata": {},
   "source": [
    "## Load Training Data"
   ]
  },
  {
   "cell_type": "code",
   "execution_count": 2,
   "metadata": {},
   "outputs": [
    {
     "name": "stderr",
     "output_type": "stream",
     "text": [
      "Filtering bad urls: 12082it [00:16, 726.98it/s]"
     ]
    },
    {
     "name": "stdout",
     "output_type": "stream",
     "text": [
      "Bad rows: 0\n",
      "(9665, 11)\n"
     ]
    },
    {
     "name": "stderr",
     "output_type": "stream",
     "text": [
      "\n"
     ]
    }
   ],
   "source": [
    "# TODO: Change to the correct path for your .csv file (butterfly_anomaly_train.csv)\n",
    "training.DATA_FILE = Path('../input_data/butterfly_anomaly_train.csv')\n",
    "# training.IMG_DIR = Path('./sample_images')\n",
    "# TODO: Change to the correct path for your images\n",
    "training.IMG_DIR = Path('../input_data/both')\n",
    "train_data, test_data = training.load_data(training.DATA_FILE, training.IMG_DIR)\n",
    "print(train_data.shape)"
   ]
  },
  {
   "cell_type": "markdown",
   "metadata": {},
   "source": [
    "## Model setup\n"
   ]
  },
  {
   "cell_type": "code",
   "execution_count": 3,
   "metadata": {},
   "outputs": [
    {
     "name": "stdout",
     "output_type": "stream",
     "text": [
      "cpu\n",
      "<class 'transformers.models.dinov2.modeling_dinov2.Dinov2Model'>\n"
     ]
    }
   ],
   "source": [
    "training.DEVICE='cuda' if torch.cuda.is_available() else 'cpu'\n",
    "model = training.get_dino_model(dino_name='facebook/dinov2-base').to(training.DEVICE)\n",
    "training.BATCH_SIZE = 4\n",
    "\n",
    "# Location to save checkpoints and results\n",
    "training.CLF_SAVE_DIR = Path('./trained_clfs')\n",
    "os.makedirs(training.CLF_SAVE_DIR, exist_ok=True)\n",
    "print(training.DEVICE)\n",
    "# print(model)\n",
    "print(type(model))\n"
   ]
  },
  {
   "cell_type": "markdown",
   "metadata": {},
   "source": [
    "## Start training"
   ]
  },
  {
   "cell_type": "code",
   "execution_count": 4,
   "metadata": {},
   "outputs": [
    {
     "name": "stdout",
     "output_type": "stream",
     "text": [
      "Created base dataset with 9665 samples\n",
      "Created base dataset with 2417 samples\n",
      "<torch.utils.data.dataloader.DataLoader object at 0x000002065259AEC0>\n",
      "<torch.utils.data.dataloader.DataLoader object at 0x00000206527B8370>\n"
     ]
    }
   ],
   "source": [
    "# Create dataloader\n",
    "tr_sig_dloader, test_dl = training.prepare_data_loaders(train_data, test_data)\n",
    "print(tr_sig_dloader)\n",
    "print(test_dl)"
   ]
  },
  {
   "cell_type": "code",
   "execution_count": 22,
   "metadata": {},
   "outputs": [
    {
     "name": "stderr",
     "output_type": "stream",
     "text": [
      "Extracting features:   0%|          | 2/2417 [00:36<10:33:57, 15.75s/it]"
     ]
    }
   ],
   "source": [
    "# Extract visual features from model\n",
    "try: \n",
    "    tr_features, tr_labels, test_features, test_labels = training.extract_features(tr_sig_dloader, test_dl, model)\n",
    "    print(tr_features)\n",
    "except Exception as e:\n",
    "    print(\"Error in extracting features\")\n",
    "    print(e)"
   ]
  },
  {
   "cell_type": "code",
   "execution_count": 25,
   "metadata": {},
   "outputs": [
    {
     "name": "stdout",
     "output_type": "stream",
     "text": [
      "[[ 0.07480468  1.0148212  -0.44328105 ... -1.3911552  -0.78655094\n",
      "  -0.7207247 ]\n",
      " [-2.799437    1.1824923  -2.1693401  ... -1.4877348  -1.2589675\n",
      "  -0.4212661 ]\n",
      " [-1.6104      0.00404462 -2.7286115  ... -0.66142565 -0.59261125\n",
      "  -0.61701185]\n",
      " ...\n",
      " [-3.4467356   0.54792047 -1.8496662  ... -1.0453129  -1.5139419\n",
      "  -0.4645679 ]\n",
      " [-2.593028    1.152011   -2.428368   ... -1.0441059  -1.797775\n",
      "  -0.37309414]\n",
      " [-3.5681794   0.9330046  -1.8699456  ... -1.5799365  -1.3101511\n",
      "  -0.8292255 ]]\n"
     ]
    }
   ],
   "source": [
    "print(tr_features)"
   ]
  },
  {
   "cell_type": "code",
   "execution_count": 26,
   "metadata": {},
   "outputs": [
    {
     "name": "stdout",
     "output_type": "stream",
     "text": [
      "Training and evaluating svm...\n",
      "Saved svm classifier to trained_clfs\\trained_svm_classifier.pkl\n",
      "svm: Acc - 0.9730, Hacc - 0.9444, NHacc - 0.9746\n",
      "\n",
      "          Hybrid-Recall: 1.0\n",
      "          Hybrid-Precision: 0.4117647058823529\n",
      "          f1-Score: 0.5833333333333334\n",
      "          ROC AUC: 0.9751861042183623\n",
      "          Accuracy: 0.9520383693045563\n",
      "          \n",
      "Training and evaluating sgd...\n",
      "Saved sgd classifier to trained_clfs\\trained_sgd_classifier.pkl\n",
      "sgd: Acc - 0.9790, Hacc - 0.6111, NHacc - 1.0000\n",
      "\n",
      "          Hybrid-Recall: 1.0\n",
      "          Hybrid-Precision: 0.4117647058823529\n",
      "          f1-Score: 0.5833333333333334\n",
      "          ROC AUC: 0.9751861042183623\n",
      "          Accuracy: 0.9520383693045563\n",
      "          \n",
      "Training and evaluating knn...\n",
      "Saved knn classifier to trained_clfs\\trained_knn_classifier.pkl\n",
      "knn: Acc - 0.9820, Hacc - 0.6667, NHacc - 1.0000\n",
      "\n",
      "          Hybrid-Recall: 1.0\n",
      "          Hybrid-Precision: 0.4117647058823529\n",
      "          f1-Score: 0.5833333333333334\n",
      "          ROC AUC: 0.9751861042183623\n",
      "          Accuracy: 0.9520383693045563\n",
      "          \n"
     ]
    }
   ],
   "source": [
    "# Train classifier with visual features\n",
    "csv_output, score_output = training.train_and_evaluate(tr_features, tr_labels, test_features, test_labels)"
   ]
  },
  {
   "cell_type": "code",
   "execution_count": 24,
   "metadata": {},
   "outputs": [],
   "source": [
    "# Save evaluation results\n",
    "csv_filename = training.CLF_SAVE_DIR / \"classifier_evaluation_results.csv\"\n",
    "with open(csv_filename, mode='w', newline='') as file:\n",
    "    writer = csv.writer(file)\n",
    "    writer.writerow([\"Configuration\", \"AUC\", \"Precision\", \"Recall\", \"F1-score\"])\n",
    "    writer.writerows(csv_output)\n",
    "\n",
    "# Save individual scores\n",
    "scores_filename = training.CLF_SAVE_DIR / \"classifier_scores.csv\"\n",
    "with open(scores_filename, mode='w', newline='') as score_file:\n",
    "    score_writer = csv.writer(score_file)\n",
    "    score_writer.writerow([\"Index\", \"Score\", \"True Label\"])\n",
    "    score_writer.writerows(score_output)"
   ]
  },
  {
   "cell_type": "code",
   "execution_count": null,
   "metadata": {},
   "outputs": [],
   "source": []
  }
 ],
 "metadata": {
  "kernelspec": {
   "display_name": "butterfly-detection",
   "language": "python",
   "name": "python3"
  },
  "language_info": {
   "codemirror_mode": {
    "name": "ipython",
    "version": 3
   },
   "file_extension": ".py",
   "mimetype": "text/x-python",
   "name": "python",
   "nbconvert_exporter": "python",
   "pygments_lexer": "ipython3",
   "version": "3.10.16"
  }
 },
 "nbformat": 4,
 "nbformat_minor": 4
}
