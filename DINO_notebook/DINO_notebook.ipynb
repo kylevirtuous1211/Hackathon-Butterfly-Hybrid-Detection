{
 "cells": [
  {
   "cell_type": "markdown",
   "metadata": {},
   "source": [
    "## Load in the dataset CSV"
   ]
  },
  {
   "cell_type": "markdown",
   "metadata": {},
   "source": [
    "## Make one column with classification\n",
    "\n",
    "This is the subspecies (which may is a mix of two for some specimens, the hybrids); this is for coloring the distribution plot by hybrid status and showing all together."
   ]
  },
  {
   "cell_type": "markdown",
   "metadata": {},
   "source": [
    "## Get distribution of images by subspecies (colored by hybrid status)"
   ]
  },
  {
   "cell_type": "markdown",
   "metadata": {},
   "source": [
    "## Start here"
   ]
  },
  {
   "cell_type": "markdown",
   "metadata": {},
   "source": [
    "## Import training requirements"
   ]
  },
  {
   "cell_type": "code",
   "execution_count": 1,
   "metadata": {},
   "outputs": [],
   "source": [
    "import torch\n",
    "import sys\n",
    "import os\n",
    "import csv\n",
    "from pathlib import Path\n",
    "# Add your path of library\n",
    "sys.path.append('../DINO_train')\n",
    "import training"
   ]
  },
  {
   "cell_type": "markdown",
   "metadata": {},
   "source": []
  },
  {
   "cell_type": "markdown",
   "metadata": {},
   "source": [
    "## Load Training Data"
   ]
  },
  {
   "cell_type": "code",
   "execution_count": 2,
   "metadata": {},
   "outputs": [
    {
     "name": "stderr",
     "output_type": "stream",
     "text": [
      "Filtering bad urls: 12082it [00:16, 726.98it/s]"
     ]
    },
    {
     "name": "stdout",
     "output_type": "stream",
     "text": [
      "Bad rows: 0\n",
      "(9665, 11)\n"
     ]
    },
    {
     "name": "stderr",
     "output_type": "stream",
     "text": [
      "\n"
     ]
    }
   ],
   "source": [
    "# TODO: Change to the correct path for your .csv file (butterfly_anomaly_train.csv)\n",
    "training.DATA_FILE = Path('../input_data/butterfly_anomaly_train.csv')\n",
    "# training.IMG_DIR = Path('./sample_images')\n",
    "# TODO: Change to the correct path for your images\n",
    "training.IMG_DIR = Path('../input_data/both')\n",
    "train_data, test_data = training.load_data(training.DATA_FILE, training.IMG_DIR)\n",
    "print(train_data.shape)"
   ]
  },
  {
   "cell_type": "markdown",
   "metadata": {},
   "source": [
    "## Model setup\n"
   ]
  },
  {
   "cell_type": "code",
   "execution_count": 3,
   "metadata": {},
   "outputs": [
    {
     "name": "stdout",
     "output_type": "stream",
     "text": [
      "cpu\n",
      "<class 'transformers.models.dinov2.modeling_dinov2.Dinov2Model'>\n"
     ]
    }
   ],
   "source": [
    "training.DEVICE='cuda' if torch.cuda.is_available() else 'cpu'\n",
    "model = training.get_dino_model(dino_name='facebook/dinov2-base').to(training.DEVICE)\n",
    "training.BATCH_SIZE = 4\n",
    "\n",
    "# Location to save checkpoints and results\n",
    "training.CLF_SAVE_DIR = Path('./trained_clfs')\n",
    "os.makedirs(training.CLF_SAVE_DIR, exist_ok=True)\n",
    "print(training.DEVICE)\n",
    "# print(model)\n",
    "print(type(model))\n"
   ]
  },
  {
   "cell_type": "markdown",
   "metadata": {},
   "source": [
    "## Start training"
   ]
  },
  {
   "cell_type": "code",
   "execution_count": 4,
   "metadata": {},
   "outputs": [
    {
     "name": "stdout",
     "output_type": "stream",
     "text": [
      "Created base dataset with 9665 samples\n",
      "Created base dataset with 2417 samples\n",
      "<torch.utils.data.dataloader.DataLoader object at 0x000002065259AEC0>\n",
      "<torch.utils.data.dataloader.DataLoader object at 0x00000206527B8370>\n"
     ]
    }
   ],
   "source": [
    "# Create dataloader\n",
    "tr_sig_dloader, test_dl = training.prepare_data_loaders(train_data, test_data)\n",
    "print(tr_sig_dloader)\n",
    "print(test_dl)"
   ]
  },
  {
   "cell_type": "code",
   "execution_count": 22,
   "metadata": {},
   "outputs": [
    {
     "name": "stderr",
     "output_type": "stream",
     "text": [
      "Extracting features:   9%|▉         | 218/2417 [10:56<1:39:07,  2.70s/it]"
     ]
    }
   ],
   "source": [
    "# Extract visual features from model\n",
    "try: \n",
    "    tr_features, tr_labels, test_features, test_labels = training.extract_features(tr_sig_dloader, test_dl, model)\n",
    "    print(tr_features)\n",
    "except Exception as e:\n",
    "    print(\"Error in extracting features\")\n",
    "    print(e)"
   ]
  },
  {
   "cell_type": "code",
   "execution_count": 25,
   "metadata": {},
   "outputs": [
    {
     "name": "stdout",
     "output_type": "stream",
     "text": [
      "[[ 0.07480468  1.0148212  -0.44328105 ... -1.3911552  -0.78655094\n",
      "  -0.7207247 ]\n",
      " [-2.799437    1.1824923  -2.1693401  ... -1.4877348  -1.2589675\n",
      "  -0.4212661 ]\n",
      " [-1.6104      0.00404462 -2.7286115  ... -0.66142565 -0.59261125\n",
      "  -0.61701185]\n",
      " ...\n",
      " [-3.4467356   0.54792047 -1.8496662  ... -1.0453129  -1.5139419\n",
      "  -0.4645679 ]\n",
      " [-2.593028    1.152011   -2.428368   ... -1.0441059  -1.797775\n",
      "  -0.37309414]\n",
      " [-3.5681794   0.9330046  -1.8699456  ... -1.5799365  -1.3101511\n",
      "  -0.8292255 ]]\n"
     ]
    }
   ],
   "source": [
    "print(tr_features)"
   ]
  },
  {
   "cell_type": "code",
   "execution_count": 26,
   "metadata": {},
   "outputs": [
    {
     "name": "stdout",
     "output_type": "stream",
     "text": [
      "Training and evaluating svm...\n",
      "Saved svm classifier to trained_clfs\\trained_svm_classifier.pkl\n",
      "svm: Acc - 0.9730, Hacc - 0.9444, NHacc - 0.9746\n",
      "\n",
      "          Hybrid-Recall: 1.0\n",
      "          Hybrid-Precision: 0.4117647058823529\n",
      "          f1-Score: 0.5833333333333334\n",
      "          ROC AUC: 0.9751861042183623\n",
      "          Accuracy: 0.9520383693045563\n",
      "          \n",
      "Training and evaluating sgd...\n",
      "Saved sgd classifier to trained_clfs\\trained_sgd_classifier.pkl\n",
      "sgd: Acc - 0.9790, Hacc - 0.6111, NHacc - 1.0000\n",
      "\n",
      "          Hybrid-Recall: 1.0\n",
      "          Hybrid-Precision: 0.4117647058823529\n",
      "          f1-Score: 0.5833333333333334\n",
      "          ROC AUC: 0.9751861042183623\n",
      "          Accuracy: 0.9520383693045563\n",
      "          \n",
      "Training and evaluating knn...\n",
      "Saved knn classifier to trained_clfs\\trained_knn_classifier.pkl\n",
      "knn: Acc - 0.9820, Hacc - 0.6667, NHacc - 1.0000\n",
      "\n",
      "          Hybrid-Recall: 1.0\n",
      "          Hybrid-Precision: 0.4117647058823529\n",
      "          f1-Score: 0.5833333333333334\n",
      "          ROC AUC: 0.9751861042183623\n",
      "          Accuracy: 0.9520383693045563\n",
      "          \n"
     ]
    }
   ],
   "source": [
    "# Train classifier with visual features\n",
    "csv_output, score_output = training.train_and_evaluate(tr_features, tr_labels, test_features, test_labels)"
   ]
  },
  {
   "cell_type": "code",
   "execution_count": 24,
   "metadata": {},
   "outputs": [],
   "source": [
    "# Save evaluation results\n",
    "csv_filename = training.CLF_SAVE_DIR / \"classifier_evaluation_results.csv\"\n",
    "with open(csv_filename, mode='w', newline='') as file:\n",
    "    writer = csv.writer(file)\n",
    "    writer.writerow([\"Configuration\", \"AUC\", \"Precision\", \"Recall\", \"F1-score\"])\n",
    "    writer.writerows(csv_output)\n",
    "\n",
    "# Save individual scores\n",
    "scores_filename = training.CLF_SAVE_DIR / \"classifier_scores.csv\"\n",
    "with open(scores_filename, mode='w', newline='') as score_file:\n",
    "    score_writer = csv.writer(score_file)\n",
    "    score_writer.writerow([\"Index\", \"Score\", \"True Label\"])\n",
    "    score_writer.writerows(score_output)"
   ]
  },
  {
   "cell_type": "code",
   "execution_count": null,
   "metadata": {},
   "outputs": [],
   "source": []
  }
 ],
 "metadata": {
  "kernelspec": {
   "display_name": "butterfly-detection",
   "language": "python",
   "name": "python3"
  },
  "language_info": {
   "codemirror_mode": {
    "name": "ipython",
    "version": 3
   },
   "file_extension": ".py",
   "mimetype": "text/x-python",
   "name": "python",
   "nbconvert_exporter": "python",
   "pygments_lexer": "ipython3",
   "version": "3.10.16"
  }
 },
 "nbformat": 4,
 "nbformat_minor": 4
}
